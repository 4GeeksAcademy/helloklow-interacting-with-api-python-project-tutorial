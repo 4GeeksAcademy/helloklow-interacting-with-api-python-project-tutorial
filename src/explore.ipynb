{
    "cells": [
        {
            "cell_type": "markdown",
            "metadata": {},
            "source": [
                "# Explore here"
            ]
        },
        {
            "cell_type": "code",
            "execution_count": 2,
            "metadata": {},
            "outputs": [
                {
                    "ename": "ModuleNotFoundError",
                    "evalue": "No module named 'seaborn'",
                    "output_type": "error",
                    "traceback": [
                        "\u001b[0;31m---------------------------------------------------------------------------\u001b[0m",
                        "\u001b[0;31mModuleNotFoundError\u001b[0m                       Traceback (most recent call last)",
                        "Cell \u001b[0;32mIn[2], line 3\u001b[0m\n\u001b[1;32m      1\u001b[0m \u001b[38;5;28;01mimport\u001b[39;00m \u001b[38;5;21;01mos\u001b[39;00m\n\u001b[1;32m      2\u001b[0m \u001b[38;5;28;01mimport\u001b[39;00m \u001b[38;5;21;01mpandas\u001b[39;00m \u001b[38;5;28;01mas\u001b[39;00m \u001b[38;5;21;01mpd\u001b[39;00m\n\u001b[0;32m----> 3\u001b[0m \u001b[38;5;28;01mimport\u001b[39;00m \u001b[38;5;21;01mseaborn\u001b[39;00m \u001b[38;5;28;01mas\u001b[39;00m \u001b[38;5;21;01msns\u001b[39;00m\n\u001b[1;32m      4\u001b[0m \u001b[38;5;28;01mfrom\u001b[39;00m \u001b[38;5;21;01mdotenv\u001b[39;00m \u001b[38;5;28;01mimport\u001b[39;00m load_dotenv\n\u001b[1;32m      6\u001b[0m \u001b[38;5;66;03m# load the .env file variables\u001b[39;00m\n",
                        "\u001b[0;31mModuleNotFoundError\u001b[0m: No module named 'seaborn'"
                    ]
                }
            ],
            "source": [
                "import os\n",
                "import pandas as pd\n",
                "import seaborn as sns\n",
                "from dotenv import load_dotenv\n",
                "\n",
                "# load the .env file variables\n",
                "load_dotenv()\n",
                "\n"
            ]
        },
        {
            "cell_type": "code",
            "execution_count": 1,
            "metadata": {},
            "outputs": [
                {
                    "name": "stdout",
                    "output_type": "stream",
                    "text": [
                        "Defaulting to user installation because normal site-packages is not writeable\n",
                        "Requirement already satisfied: spotipy in /home/vscode/.local/lib/python3.11/site-packages (2.23.0)\n",
                        "Requirement already satisfied: redis>=3.5.3 in /home/vscode/.local/lib/python3.11/site-packages (from spotipy) (5.1.1)\n",
                        "Requirement already satisfied: requests>=2.25.0 in /home/vscode/.local/lib/python3.11/site-packages (from spotipy) (2.27.1)\n",
                        "Requirement already satisfied: six>=1.15.0 in /home/vscode/.local/lib/python3.11/site-packages (from spotipy) (1.16.0)\n",
                        "Requirement already satisfied: urllib3>=1.26.0 in /home/vscode/.local/lib/python3.11/site-packages (from spotipy) (1.26.20)\n",
                        "Requirement already satisfied: certifi>=2017.4.17 in /home/vscode/.local/lib/python3.11/site-packages (from requests>=2.25.0->spotipy) (2024.8.30)\n",
                        "Requirement already satisfied: charset-normalizer~=2.0.0 in /home/vscode/.local/lib/python3.11/site-packages (from requests>=2.25.0->spotipy) (2.0.12)\n",
                        "Requirement already satisfied: idna<4,>=2.5 in /home/vscode/.local/lib/python3.11/site-packages (from requests>=2.25.0->spotipy) (3.10)\n",
                        "\n",
                        "\u001b[1m[\u001b[0m\u001b[34;49mnotice\u001b[0m\u001b[1;39;49m]\u001b[0m\u001b[39;49m A new release of pip is available: \u001b[0m\u001b[31;49m23.1.2\u001b[0m\u001b[39;49m -> \u001b[0m\u001b[32;49m24.2\u001b[0m\n",
                        "\u001b[1m[\u001b[0m\u001b[34;49mnotice\u001b[0m\u001b[1;39;49m]\u001b[0m\u001b[39;49m To update, run: \u001b[0m\u001b[32;49mpip install --upgrade pip\u001b[0m\n"
                    ]
                }
            ],
            "source": [
                "# Step 2: Initial config\n",
                "!pip install spotipy"
            ]
        },
        {
            "cell_type": "code",
            "execution_count": 3,
            "metadata": {},
            "outputs": [],
            "source": [
                "# Step 3: Environment variables\n",
                "from dotenv import load_dotenv\n",
                "load_dotenv()\n",
                "\n",
                "import os\n",
                "\n",
                "client_id = os.environ.get(\"CLIENT_ID\")\n",
                "client_secret = os.environ.get(\"CLIENT_SECRET\")"
            ]
        },
        {
            "cell_type": "code",
            "execution_count": 6,
            "metadata": {},
            "outputs": [
                {
                    "name": "stdout",
                    "output_type": "stream",
                    "text": [
                        "Access token obtained!\n"
                    ]
                }
            ],
            "source": [
                "# Step 4: Obtain access token\n",
                "import base64\n",
                "import requests\n",
                "\n",
                "# Encode the client credentials\n",
                "client_credentials = f\"{client_id}:{client_secret}\"\n",
                "client_credentials_base64 = base64.b64encode(client_credentials.encode())\n",
                "\n",
                "# Prepare the token request\n",
                "token_url = \"https://accounts.spotify.com/api/token\"\n",
                "headers = {\n",
                "    \"Authorization\": f\"Basic {client_credentials_base64.decode()}\"\n",
                "}\n",
                "data = {\n",
                "    \"grant_type\": \"client_credentials\"\n",
                "}\n",
                "\n",
                "# Request access token\n",
                "response = requests.post(token_url, headers=headers, data=data)\n",
                "\n",
                "# Check if the request was successful\n",
                "if response.status_code == 200:\n",
                "    access_token = response.json()['access_token']\n",
                "    print(\"Access token obtained!\")\n",
                "else:\n",
                "    print(f\"Failed to obtain access token. Status code: {response.status_code}\")\n",
                "    print(response.text)"
            ]
        },
        {
            "cell_type": "code",
            "execution_count": 7,
            "metadata": {},
            "outputs": [
                {
                    "name": "stdout",
                    "output_type": "stream",
                    "text": [
                        "Response Data: {'artists': {'href': 'https://api.spotify.com/v1/search?query=Rainbow+Kitten+Surprise&type=artist&offset=0&limit=1', 'items': [{'external_urls': {'spotify': 'https://open.spotify.com/artist/4hz8tIajF2INpgM0qzPJz2'}, 'followers': {'href': None, 'total': 1185758}, 'genres': ['pov: indie'], 'href': 'https://api.spotify.com/v1/artists/4hz8tIajF2INpgM0qzPJz2', 'id': '4hz8tIajF2INpgM0qzPJz2', 'images': [{'height': 640, 'url': 'https://i.scdn.co/image/ab6761610000e5eb88aed23707da4abd1b8e2fe7', 'width': 640}, {'height': 320, 'url': 'https://i.scdn.co/image/ab6761610000517488aed23707da4abd1b8e2fe7', 'width': 320}, {'height': 160, 'url': 'https://i.scdn.co/image/ab6761610000f17888aed23707da4abd1b8e2fe7', 'width': 160}], 'name': 'Rainbow Kitten Surprise', 'popularity': 71, 'type': 'artist', 'uri': 'spotify:artist:4hz8tIajF2INpgM0qzPJz2'}], 'limit': 1, 'next': 'https://api.spotify.com/v1/search?query=Rainbow+Kitten+Surprise&type=artist&offset=1&limit=1', 'offset': 0, 'previous': None, 'total': 352}}\n"
                    ]
                }
            ],
            "source": [
                "# Step 5: Search for an artist\n",
                "# Set the access token in the headers\n",
                "headers = {\n",
                "    \"Authorization\": f\"Bearer {access_token}\"\n",
                "}\n",
                "\n",
                "# Define the endpoint and parameters\n",
                "search_url = \"https://api.spotify.com/v1/search\"\n",
                "params = {\n",
                "    \"q\": \"Rainbow Kitten Surprise\",  # Artist name to search for\n",
                "    \"type\": \"artist\",\n",
                "    \"limit\": 1\n",
                "}\n",
                "\n",
                "# Make the API request to search for the artist\n",
                "response = requests.get(search_url, headers=headers, params=params)\n",
                "\n",
                "# Check if the request was successful\n",
                "if response.status_code == 200:\n",
                "    response_data = response.json()\n",
                "    print(f\"Response Data: {response_data}\")\n",
                "    artist_id = response_data['artists']['items'][0]['id']\n",
                "    artist_name = response_data['artists']['items'][0]['name']\n",
                "    # print(f\"Found artist: {artist_name} (ID: {artist_id})\")\n",
                "else:\n",
                "    print(f\"Failed to search for artist. Status code: {response.status_code}\")\n",
                "    print(response.text)\n"
            ]
        },
        {
            "cell_type": "code",
            "execution_count": 24,
            "metadata": {},
            "outputs": [
                {
                    "name": "stdout",
                    "output_type": "stream",
                    "text": [
                        "Top tracks for Rainbow Kitten Surprise:\n",
                        "Track data: {'album': {'album_type': 'album', 'artists': [{'external_urls': {'spotify': 'https://open.spotify.com/artist/4hz8tIajF2INpgM0qzPJz2'}, 'href': 'https://api.spotify.com/v1/artists/4hz8tIajF2INpgM0qzPJz2', 'id': '4hz8tIajF2INpgM0qzPJz2', 'name': 'Rainbow Kitten Surprise', 'type': 'artist', 'uri': 'spotify:artist:4hz8tIajF2INpgM0qzPJz2'}], 'external_urls': {'spotify': 'https://open.spotify.com/album/7vXiklrUeffx5o2F8VYwm3'}, 'href': 'https://api.spotify.com/v1/albums/7vXiklrUeffx5o2F8VYwm3', 'id': '7vXiklrUeffx5o2F8VYwm3', 'images': [{'url': 'https://i.scdn.co/image/ab67616d0000b2739529217e48fc8bab89c8a1f9', 'width': 640, 'height': 640}, {'url': 'https://i.scdn.co/image/ab67616d00001e029529217e48fc8bab89c8a1f9', 'width': 300, 'height': 300}, {'url': 'https://i.scdn.co/image/ab67616d000048519529217e48fc8bab89c8a1f9', 'width': 64, 'height': 64}], 'is_playable': True, 'name': 'How to: Friend, Love, Freefall', 'release_date': '2018-04-06', 'release_date_precision': 'day', 'total_tracks': 13, 'type': 'album', 'uri': 'spotify:album:7vXiklrUeffx5o2F8VYwm3'}, 'artists': [{'external_urls': {'spotify': 'https://open.spotify.com/artist/4hz8tIajF2INpgM0qzPJz2'}, 'href': 'https://api.spotify.com/v1/artists/4hz8tIajF2INpgM0qzPJz2', 'id': '4hz8tIajF2INpgM0qzPJz2', 'name': 'Rainbow Kitten Surprise', 'type': 'artist', 'uri': 'spotify:artist:4hz8tIajF2INpgM0qzPJz2'}], 'disc_number': 1, 'duration_ms': 152293, 'explicit': True, 'external_ids': {'isrc': 'USAT21800165'}, 'external_urls': {'spotify': 'https://open.spotify.com/track/474uVhyGgK5MtY9gMcDgGl'}, 'href': 'https://api.spotify.com/v1/tracks/474uVhyGgK5MtY9gMcDgGl', 'id': '474uVhyGgK5MtY9gMcDgGl', 'is_local': False, 'is_playable': True, 'name': \"It's Called: Freefall\", 'popularity': 77, 'preview_url': 'https://p.scdn.co/mp3-preview/84be00e486991c2b8b7d8625dd90fd9624993d20?cid=70583257ad604839a0df5bae4d38a7ae', 'track_number': 4, 'type': 'track', 'uri': 'spotify:track:474uVhyGgK5MtY9gMcDgGl'}\n",
                        "Track data: {'album': {'album_type': 'album', 'artists': [{'external_urls': {'spotify': 'https://open.spotify.com/artist/4hz8tIajF2INpgM0qzPJz2'}, 'href': 'https://api.spotify.com/v1/artists/4hz8tIajF2INpgM0qzPJz2', 'id': '4hz8tIajF2INpgM0qzPJz2', 'name': 'Rainbow Kitten Surprise', 'type': 'artist', 'uri': 'spotify:artist:4hz8tIajF2INpgM0qzPJz2'}], 'external_urls': {'spotify': 'https://open.spotify.com/album/5krQbJqzCCOxCGOQ3W8Tr6'}, 'href': 'https://api.spotify.com/v1/albums/5krQbJqzCCOxCGOQ3W8Tr6', 'id': '5krQbJqzCCOxCGOQ3W8Tr6', 'images': [{'url': 'https://i.scdn.co/image/ab67616d0000b27352e9d3d40283790b814b2339', 'width': 640, 'height': 640}, {'url': 'https://i.scdn.co/image/ab67616d00001e0252e9d3d40283790b814b2339', 'width': 300, 'height': 300}, {'url': 'https://i.scdn.co/image/ab67616d0000485152e9d3d40283790b814b2339', 'width': 64, 'height': 64}], 'is_playable': True, 'name': 'Seven + Mary', 'release_date': '2013-11-13', 'release_date_precision': 'day', 'total_tracks': 11, 'type': 'album', 'uri': 'spotify:album:5krQbJqzCCOxCGOQ3W8Tr6'}, 'artists': [{'external_urls': {'spotify': 'https://open.spotify.com/artist/4hz8tIajF2INpgM0qzPJz2'}, 'href': 'https://api.spotify.com/v1/artists/4hz8tIajF2INpgM0qzPJz2', 'id': '4hz8tIajF2INpgM0qzPJz2', 'name': 'Rainbow Kitten Surprise', 'type': 'artist', 'uri': 'spotify:artist:4hz8tIajF2INpgM0qzPJz2'}], 'disc_number': 1, 'duration_ms': 171025, 'explicit': True, 'external_ids': {'isrc': 'TCABT1491605'}, 'external_urls': {'spotify': 'https://open.spotify.com/track/1Bc2DgDK6W5iyWEFkI92fe'}, 'href': 'https://api.spotify.com/v1/tracks/1Bc2DgDK6W5iyWEFkI92fe', 'id': '1Bc2DgDK6W5iyWEFkI92fe', 'is_local': False, 'is_playable': True, 'name': 'All That And More (Sailboat)', 'popularity': 67, 'preview_url': 'https://p.scdn.co/mp3-preview/7c90bb186ff0b6acaa77e32d99809cd6ae37c270?cid=70583257ad604839a0df5bae4d38a7ae', 'track_number': 8, 'type': 'track', 'uri': 'spotify:track:1Bc2DgDK6W5iyWEFkI92fe'}\n",
                        "Track data: {'album': {'album_type': 'album', 'artists': [{'external_urls': {'spotify': 'https://open.spotify.com/artist/4hz8tIajF2INpgM0qzPJz2'}, 'href': 'https://api.spotify.com/v1/artists/4hz8tIajF2INpgM0qzPJz2', 'id': '4hz8tIajF2INpgM0qzPJz2', 'name': 'Rainbow Kitten Surprise', 'type': 'artist', 'uri': 'spotify:artist:4hz8tIajF2INpgM0qzPJz2'}], 'external_urls': {'spotify': 'https://open.spotify.com/album/2SM1ePn45flLcWLbSburZ9'}, 'href': 'https://api.spotify.com/v1/albums/2SM1ePn45flLcWLbSburZ9', 'id': '2SM1ePn45flLcWLbSburZ9', 'images': [{'url': 'https://i.scdn.co/image/ab67616d0000b273108ecaaae27769fb6a7da962', 'width': 640, 'height': 640}, {'url': 'https://i.scdn.co/image/ab67616d00001e02108ecaaae27769fb6a7da962', 'width': 300, 'height': 300}, {'url': 'https://i.scdn.co/image/ab67616d00004851108ecaaae27769fb6a7da962', 'width': 64, 'height': 64}], 'is_playable': True, 'name': 'RKS', 'release_date': '2015-04-25', 'release_date_precision': 'day', 'total_tracks': 11, 'type': 'album', 'uri': 'spotify:album:2SM1ePn45flLcWLbSburZ9'}, 'artists': [{'external_urls': {'spotify': 'https://open.spotify.com/artist/4hz8tIajF2INpgM0qzPJz2'}, 'href': 'https://api.spotify.com/v1/artists/4hz8tIajF2INpgM0qzPJz2', 'id': '4hz8tIajF2INpgM0qzPJz2', 'name': 'Rainbow Kitten Surprise', 'type': 'artist', 'uri': 'spotify:artist:4hz8tIajF2INpgM0qzPJz2'}], 'disc_number': 1, 'duration_ms': 229666, 'explicit': True, 'external_ids': {'isrc': 'QMAAK1557434'}, 'external_urls': {'spotify': 'https://open.spotify.com/track/3yy1OnN0D8Zlq6rfHfJ5UK'}, 'href': 'https://api.spotify.com/v1/tracks/3yy1OnN0D8Zlq6rfHfJ5UK', 'id': '3yy1OnN0D8Zlq6rfHfJ5UK', 'is_local': False, 'is_playable': True, 'name': 'Cocaine Jesus', 'popularity': 67, 'preview_url': 'https://p.scdn.co/mp3-preview/066cf1e15ff9b94105f51f0bbb824cb114658f8c?cid=70583257ad604839a0df5bae4d38a7ae', 'track_number': 7, 'type': 'track', 'uri': 'spotify:track:3yy1OnN0D8Zlq6rfHfJ5UK'}\n",
                        "Track data: {'album': {'album_type': 'album', 'artists': [{'external_urls': {'spotify': 'https://open.spotify.com/artist/4hz8tIajF2INpgM0qzPJz2'}, 'href': 'https://api.spotify.com/v1/artists/4hz8tIajF2INpgM0qzPJz2', 'id': '4hz8tIajF2INpgM0qzPJz2', 'name': 'Rainbow Kitten Surprise', 'type': 'artist', 'uri': 'spotify:artist:4hz8tIajF2INpgM0qzPJz2'}], 'external_urls': {'spotify': 'https://open.spotify.com/album/5krQbJqzCCOxCGOQ3W8Tr6'}, 'href': 'https://api.spotify.com/v1/albums/5krQbJqzCCOxCGOQ3W8Tr6', 'id': '5krQbJqzCCOxCGOQ3W8Tr6', 'images': [{'url': 'https://i.scdn.co/image/ab67616d0000b27352e9d3d40283790b814b2339', 'width': 640, 'height': 640}, {'url': 'https://i.scdn.co/image/ab67616d00001e0252e9d3d40283790b814b2339', 'width': 300, 'height': 300}, {'url': 'https://i.scdn.co/image/ab67616d0000485152e9d3d40283790b814b2339', 'width': 64, 'height': 64}], 'is_playable': True, 'name': 'Seven + Mary', 'release_date': '2013-11-13', 'release_date_precision': 'day', 'total_tracks': 11, 'type': 'album', 'uri': 'spotify:album:5krQbJqzCCOxCGOQ3W8Tr6'}, 'artists': [{'external_urls': {'spotify': 'https://open.spotify.com/artist/4hz8tIajF2INpgM0qzPJz2'}, 'href': 'https://api.spotify.com/v1/artists/4hz8tIajF2INpgM0qzPJz2', 'id': '4hz8tIajF2INpgM0qzPJz2', 'name': 'Rainbow Kitten Surprise', 'type': 'artist', 'uri': 'spotify:artist:4hz8tIajF2INpgM0qzPJz2'}], 'disc_number': 1, 'duration_ms': 188280, 'explicit': True, 'external_ids': {'isrc': 'TCABT1491603'}, 'external_urls': {'spotify': 'https://open.spotify.com/track/5VJe8OKFcPBBjNEAPUeDuJ'}, 'href': 'https://api.spotify.com/v1/tracks/5VJe8OKFcPBBjNEAPUeDuJ', 'id': '5VJe8OKFcPBBjNEAPUeDuJ', 'is_local': False, 'is_playable': True, 'name': 'Devil Like Me', 'popularity': 66, 'preview_url': 'https://p.scdn.co/mp3-preview/671a101f2153a212c0580be8cc25d14959311e11?cid=70583257ad604839a0df5bae4d38a7ae', 'track_number': 6, 'type': 'track', 'uri': 'spotify:track:5VJe8OKFcPBBjNEAPUeDuJ'}\n",
                        "Track data: {'album': {'album_type': 'album', 'artists': [{'external_urls': {'spotify': 'https://open.spotify.com/artist/4hz8tIajF2INpgM0qzPJz2'}, 'href': 'https://api.spotify.com/v1/artists/4hz8tIajF2INpgM0qzPJz2', 'id': '4hz8tIajF2INpgM0qzPJz2', 'name': 'Rainbow Kitten Surprise', 'type': 'artist', 'uri': 'spotify:artist:4hz8tIajF2INpgM0qzPJz2'}], 'external_urls': {'spotify': 'https://open.spotify.com/album/7vXiklrUeffx5o2F8VYwm3'}, 'href': 'https://api.spotify.com/v1/albums/7vXiklrUeffx5o2F8VYwm3', 'id': '7vXiklrUeffx5o2F8VYwm3', 'images': [{'url': 'https://i.scdn.co/image/ab67616d0000b2739529217e48fc8bab89c8a1f9', 'width': 640, 'height': 640}, {'url': 'https://i.scdn.co/image/ab67616d00001e029529217e48fc8bab89c8a1f9', 'width': 300, 'height': 300}, {'url': 'https://i.scdn.co/image/ab67616d000048519529217e48fc8bab89c8a1f9', 'width': 64, 'height': 64}], 'is_playable': True, 'name': 'How to: Friend, Love, Freefall', 'release_date': '2018-04-06', 'release_date_precision': 'day', 'total_tracks': 13, 'type': 'album', 'uri': 'spotify:album:7vXiklrUeffx5o2F8VYwm3'}, 'artists': [{'external_urls': {'spotify': 'https://open.spotify.com/artist/4hz8tIajF2INpgM0qzPJz2'}, 'href': 'https://api.spotify.com/v1/artists/4hz8tIajF2INpgM0qzPJz2', 'id': '4hz8tIajF2INpgM0qzPJz2', 'name': 'Rainbow Kitten Surprise', 'type': 'artist', 'uri': 'spotify:artist:4hz8tIajF2INpgM0qzPJz2'}], 'disc_number': 1, 'duration_ms': 213973, 'explicit': False, 'external_ids': {'isrc': 'USAT21800169'}, 'external_urls': {'spotify': 'https://open.spotify.com/track/6fc51JZVE0Yijdi6RuoLFv'}, 'href': 'https://api.spotify.com/v1/tracks/6fc51JZVE0Yijdi6RuoLFv', 'id': '6fc51JZVE0Yijdi6RuoLFv', 'is_local': False, 'is_playable': True, 'name': 'Painkillers', 'popularity': 64, 'preview_url': 'https://p.scdn.co/mp3-preview/b70ec57fff8cd7eb0a4ac6fa8d75e22e984d82d1?cid=70583257ad604839a0df5bae4d38a7ae', 'track_number': 10, 'type': 'track', 'uri': 'spotify:track:6fc51JZVE0Yijdi6RuoLFv'}\n",
                        "Track data: {'album': {'album_type': 'album', 'artists': [{'external_urls': {'spotify': 'https://open.spotify.com/artist/4hz8tIajF2INpgM0qzPJz2'}, 'href': 'https://api.spotify.com/v1/artists/4hz8tIajF2INpgM0qzPJz2', 'id': '4hz8tIajF2INpgM0qzPJz2', 'name': 'Rainbow Kitten Surprise', 'type': 'artist', 'uri': 'spotify:artist:4hz8tIajF2INpgM0qzPJz2'}], 'external_urls': {'spotify': 'https://open.spotify.com/album/5krQbJqzCCOxCGOQ3W8Tr6'}, 'href': 'https://api.spotify.com/v1/albums/5krQbJqzCCOxCGOQ3W8Tr6', 'id': '5krQbJqzCCOxCGOQ3W8Tr6', 'images': [{'url': 'https://i.scdn.co/image/ab67616d0000b27352e9d3d40283790b814b2339', 'width': 640, 'height': 640}, {'url': 'https://i.scdn.co/image/ab67616d00001e0252e9d3d40283790b814b2339', 'width': 300, 'height': 300}, {'url': 'https://i.scdn.co/image/ab67616d0000485152e9d3d40283790b814b2339', 'width': 64, 'height': 64}], 'is_playable': True, 'name': 'Seven + Mary', 'release_date': '2013-11-13', 'release_date_precision': 'day', 'total_tracks': 11, 'type': 'album', 'uri': 'spotify:album:5krQbJqzCCOxCGOQ3W8Tr6'}, 'artists': [{'external_urls': {'spotify': 'https://open.spotify.com/artist/4hz8tIajF2INpgM0qzPJz2'}, 'href': 'https://api.spotify.com/v1/artists/4hz8tIajF2INpgM0qzPJz2', 'id': '4hz8tIajF2INpgM0qzPJz2', 'name': 'Rainbow Kitten Surprise', 'type': 'artist', 'uri': 'spotify:artist:4hz8tIajF2INpgM0qzPJz2'}], 'disc_number': 1, 'duration_ms': 343485, 'explicit': True, 'external_ids': {'isrc': 'TCABT1491600'}, 'external_urls': {'spotify': 'https://open.spotify.com/track/0uQxV7ysuBPhbfUkW1WOCp'}, 'href': 'https://api.spotify.com/v1/tracks/0uQxV7ysuBPhbfUkW1WOCp', 'id': '0uQxV7ysuBPhbfUkW1WOCp', 'is_local': False, 'is_playable': True, 'name': 'First Class', 'popularity': 64, 'preview_url': 'https://p.scdn.co/mp3-preview/864d1647a03a58291a500dc9efff1c35af3da5a8?cid=70583257ad604839a0df5bae4d38a7ae', 'track_number': 3, 'type': 'track', 'uri': 'spotify:track:0uQxV7ysuBPhbfUkW1WOCp'}\n",
                        "Track data: {'album': {'album_type': 'album', 'artists': [{'external_urls': {'spotify': 'https://open.spotify.com/artist/4hz8tIajF2INpgM0qzPJz2'}, 'href': 'https://api.spotify.com/v1/artists/4hz8tIajF2INpgM0qzPJz2', 'id': '4hz8tIajF2INpgM0qzPJz2', 'name': 'Rainbow Kitten Surprise', 'type': 'artist', 'uri': 'spotify:artist:4hz8tIajF2INpgM0qzPJz2'}], 'external_urls': {'spotify': 'https://open.spotify.com/album/2bOwdC37gg057sITTY8Ovj'}, 'href': 'https://api.spotify.com/v1/albums/2bOwdC37gg057sITTY8Ovj', 'id': '2bOwdC37gg057sITTY8Ovj', 'images': [{'url': 'https://i.scdn.co/image/ab67616d0000b2732f3c4e7efd73d771a30fbae7', 'width': 640, 'height': 640}, {'url': 'https://i.scdn.co/image/ab67616d00001e022f3c4e7efd73d771a30fbae7', 'width': 300, 'height': 300}, {'url': 'https://i.scdn.co/image/ab67616d000048512f3c4e7efd73d771a30fbae7', 'width': 64, 'height': 64}], 'is_playable': True, 'name': 'Love Hate Music Box', 'release_date': '2024-05-10', 'release_date_precision': 'day', 'total_tracks': 22, 'type': 'album', 'uri': 'spotify:album:2bOwdC37gg057sITTY8Ovj'}, 'artists': [{'external_urls': {'spotify': 'https://open.spotify.com/artist/4hz8tIajF2INpgM0qzPJz2'}, 'href': 'https://api.spotify.com/v1/artists/4hz8tIajF2INpgM0qzPJz2', 'id': '4hz8tIajF2INpgM0qzPJz2', 'name': 'Rainbow Kitten Surprise', 'type': 'artist', 'uri': 'spotify:artist:4hz8tIajF2INpgM0qzPJz2'}, {'external_urls': {'spotify': 'https://open.spotify.com/artist/70kkdajctXSbqSMJbQO424'}, 'href': 'https://api.spotify.com/v1/artists/70kkdajctXSbqSMJbQO424', 'id': '70kkdajctXSbqSMJbQO424', 'name': 'Kacey Musgraves', 'type': 'artist', 'uri': 'spotify:artist:70kkdajctXSbqSMJbQO424'}], 'disc_number': 1, 'duration_ms': 173610, 'explicit': False, 'external_ids': {'isrc': 'USAT22400510'}, 'external_urls': {'spotify': 'https://open.spotify.com/track/661XFV3LB1wpEFSmumnXUM'}, 'href': 'https://api.spotify.com/v1/tracks/661XFV3LB1wpEFSmumnXUM', 'id': '661XFV3LB1wpEFSmumnXUM', 'is_local': False, 'is_playable': True, 'name': 'Overtime (feat. Kacey Musgraves)', 'popularity': 57, 'preview_url': 'https://p.scdn.co/mp3-preview/001c7260cfb1656ec90afe7587ab6cd86db28fb6?cid=70583257ad604839a0df5bae4d38a7ae', 'track_number': 10, 'type': 'track', 'uri': 'spotify:track:661XFV3LB1wpEFSmumnXUM'}\n",
                        "Track data: {'album': {'album_type': 'album', 'artists': [{'external_urls': {'spotify': 'https://open.spotify.com/artist/4hz8tIajF2INpgM0qzPJz2'}, 'href': 'https://api.spotify.com/v1/artists/4hz8tIajF2INpgM0qzPJz2', 'id': '4hz8tIajF2INpgM0qzPJz2', 'name': 'Rainbow Kitten Surprise', 'type': 'artist', 'uri': 'spotify:artist:4hz8tIajF2INpgM0qzPJz2'}], 'external_urls': {'spotify': 'https://open.spotify.com/album/2SM1ePn45flLcWLbSburZ9'}, 'href': 'https://api.spotify.com/v1/albums/2SM1ePn45flLcWLbSburZ9', 'id': '2SM1ePn45flLcWLbSburZ9', 'images': [{'url': 'https://i.scdn.co/image/ab67616d0000b273108ecaaae27769fb6a7da962', 'width': 640, 'height': 640}, {'url': 'https://i.scdn.co/image/ab67616d00001e02108ecaaae27769fb6a7da962', 'width': 300, 'height': 300}, {'url': 'https://i.scdn.co/image/ab67616d00004851108ecaaae27769fb6a7da962', 'width': 64, 'height': 64}], 'is_playable': True, 'name': 'RKS', 'release_date': '2015-04-25', 'release_date_precision': 'day', 'total_tracks': 11, 'type': 'album', 'uri': 'spotify:album:2SM1ePn45flLcWLbSburZ9'}, 'artists': [{'external_urls': {'spotify': 'https://open.spotify.com/artist/4hz8tIajF2INpgM0qzPJz2'}, 'href': 'https://api.spotify.com/v1/artists/4hz8tIajF2INpgM0qzPJz2', 'id': '4hz8tIajF2INpgM0qzPJz2', 'name': 'Rainbow Kitten Surprise', 'type': 'artist', 'uri': 'spotify:artist:4hz8tIajF2INpgM0qzPJz2'}], 'disc_number': 1, 'duration_ms': 206626, 'explicit': False, 'external_ids': {'isrc': 'QMAAK1557437'}, 'external_urls': {'spotify': 'https://open.spotify.com/track/0wThz4KsTK2C1B4QcCgXOw'}, 'href': 'https://api.spotify.com/v1/tracks/0wThz4KsTK2C1B4QcCgXOw', 'id': '0wThz4KsTK2C1B4QcCgXOw', 'is_local': False, 'is_playable': True, 'name': \"All's Well That Ends\", 'popularity': 58, 'preview_url': 'https://p.scdn.co/mp3-preview/81b3d8fd153026158912c4909fa9abb11c578f6e?cid=70583257ad604839a0df5bae4d38a7ae', 'track_number': 10, 'type': 'track', 'uri': 'spotify:track:0wThz4KsTK2C1B4QcCgXOw'}\n",
                        "Track data: {'album': {'album_type': 'single', 'artists': [{'external_urls': {'spotify': 'https://open.spotify.com/artist/4hz8tIajF2INpgM0qzPJz2'}, 'href': 'https://api.spotify.com/v1/artists/4hz8tIajF2INpgM0qzPJz2', 'id': '4hz8tIajF2INpgM0qzPJz2', 'name': 'Rainbow Kitten Surprise', 'type': 'artist', 'uri': 'spotify:artist:4hz8tIajF2INpgM0qzPJz2'}], 'external_urls': {'spotify': 'https://open.spotify.com/album/15RYnRTIMHrCB6X3HjK2mC'}, 'href': 'https://api.spotify.com/v1/albums/15RYnRTIMHrCB6X3HjK2mC', 'id': '15RYnRTIMHrCB6X3HjK2mC', 'images': [{'url': 'https://i.scdn.co/image/ab67616d0000b273e81cd26a5fc0e1106cc5c747', 'width': 640, 'height': 640}, {'url': 'https://i.scdn.co/image/ab67616d00001e02e81cd26a5fc0e1106cc5c747', 'width': 300, 'height': 300}, {'url': 'https://i.scdn.co/image/ab67616d00004851e81cd26a5fc0e1106cc5c747', 'width': 64, 'height': 64}], 'is_playable': True, 'name': 'Mary (b-sides)', 'release_date': '2019-05-10', 'release_date_precision': 'day', 'total_tracks': 2, 'type': 'album', 'uri': 'spotify:album:15RYnRTIMHrCB6X3HjK2mC'}, 'artists': [{'external_urls': {'spotify': 'https://open.spotify.com/artist/4hz8tIajF2INpgM0qzPJz2'}, 'href': 'https://api.spotify.com/v1/artists/4hz8tIajF2INpgM0qzPJz2', 'id': '4hz8tIajF2INpgM0qzPJz2', 'name': 'Rainbow Kitten Surprise', 'type': 'artist', 'uri': 'spotify:artist:4hz8tIajF2INpgM0qzPJz2'}], 'disc_number': 1, 'duration_ms': 219696, 'explicit': False, 'external_ids': {'isrc': 'USAT21902464'}, 'external_urls': {'spotify': 'https://open.spotify.com/track/5L7IgwUPhir2FJftGNXJDW'}, 'href': 'https://api.spotify.com/v1/tracks/5L7IgwUPhir2FJftGNXJDW', 'id': '5L7IgwUPhir2FJftGNXJDW', 'is_local': False, 'is_playable': True, 'name': 'Heart', 'popularity': 58, 'preview_url': 'https://p.scdn.co/mp3-preview/3731628279aa6b4da84e02dbdeb5a3aa273e56ee?cid=70583257ad604839a0df5bae4d38a7ae', 'track_number': 1, 'type': 'track', 'uri': 'spotify:track:5L7IgwUPhir2FJftGNXJDW'}\n",
                        "Track data: {'album': {'album_type': 'album', 'artists': [{'external_urls': {'spotify': 'https://open.spotify.com/artist/4hz8tIajF2INpgM0qzPJz2'}, 'href': 'https://api.spotify.com/v1/artists/4hz8tIajF2INpgM0qzPJz2', 'id': '4hz8tIajF2INpgM0qzPJz2', 'name': 'Rainbow Kitten Surprise', 'type': 'artist', 'uri': 'spotify:artist:4hz8tIajF2INpgM0qzPJz2'}], 'external_urls': {'spotify': 'https://open.spotify.com/album/2SM1ePn45flLcWLbSburZ9'}, 'href': 'https://api.spotify.com/v1/albums/2SM1ePn45flLcWLbSburZ9', 'id': '2SM1ePn45flLcWLbSburZ9', 'images': [{'url': 'https://i.scdn.co/image/ab67616d0000b273108ecaaae27769fb6a7da962', 'width': 640, 'height': 640}, {'url': 'https://i.scdn.co/image/ab67616d00001e02108ecaaae27769fb6a7da962', 'width': 300, 'height': 300}, {'url': 'https://i.scdn.co/image/ab67616d00004851108ecaaae27769fb6a7da962', 'width': 64, 'height': 64}], 'is_playable': True, 'name': 'RKS', 'release_date': '2015-04-25', 'release_date_precision': 'day', 'total_tracks': 11, 'type': 'album', 'uri': 'spotify:album:2SM1ePn45flLcWLbSburZ9'}, 'artists': [{'external_urls': {'spotify': 'https://open.spotify.com/artist/4hz8tIajF2INpgM0qzPJz2'}, 'href': 'https://api.spotify.com/v1/artists/4hz8tIajF2INpgM0qzPJz2', 'id': '4hz8tIajF2INpgM0qzPJz2', 'name': 'Rainbow Kitten Surprise', 'type': 'artist', 'uri': 'spotify:artist:4hz8tIajF2INpgM0qzPJz2'}], 'disc_number': 1, 'duration_ms': 231906, 'explicit': False, 'external_ids': {'isrc': 'QMAAK1557436'}, 'external_urls': {'spotify': 'https://open.spotify.com/track/0M2qo3471lo6vo91qHM5Ub'}, 'href': 'https://api.spotify.com/v1/tracks/0M2qo3471lo6vo91qHM5Ub', 'id': '0M2qo3471lo6vo91qHM5Ub', 'is_local': False, 'is_playable': True, 'name': 'Goodnight Chicago', 'popularity': 58, 'preview_url': 'https://p.scdn.co/mp3-preview/5baa79530293f6f63d4f2a198d03004fe9e7e84c?cid=70583257ad604839a0df5bae4d38a7ae', 'track_number': 9, 'type': 'track', 'uri': 'spotify:track:0M2qo3471lo6vo91qHM5Ub'}\n"
                    ]
                }
            ],
            "source": [
                "# Step 6: Get artist's top tracks\n",
                "# Define the endpoint for the artist's top tracks\n",
                "top_tracks_url = f\"https://api.spotify.com/v1/artists/{artist_id}/top-tracks\"\n",
                "params = {\n",
                "    \"market\": \"US\"  # Specify the market (country)\n",
                "}\n",
                "\n",
                "# Make the API request to get top tracks\n",
                "response = requests.get(top_tracks_url, headers=headers, params=params)\n",
                "\n",
                "# Check if the request was successful\n",
                "if response.status_code == 200:\n",
                "    top_tracks_data = response.json()\n",
                "    print(f\"Top tracks for {artist_name}:\")\n",
                "    for idx, track in enumerate(top_tracks_data['tracks'], start=1):\n",
                "        print(f\"Track data: {track}\")\n",
                "        track_name = track['name']\n",
                "        album_name = track['album']['name']\n",
                "        duration_ms = track['duration_ms']\n",
                "        popularity = track['popularity']\n",
                "        # print(f\"{idx}. {track_name} - Album: {album_name}\")\n",
                "else:\n",
                "    print(f\"Failed to get top tracks. Status code: {response.status_code}\")\n",
                "    print(response.text)"
            ]
        },
        {
            "cell_type": "code",
            "execution_count": 22,
            "metadata": {},
            "outputs": [
                {
                    "name": "stdout",
                    "output_type": "stream",
                    "text": [
                        "                                               album  \\\n",
                        "6  {'album_type': 'album', 'artists': [{'external...   \n",
                        "7  {'album_type': 'album', 'artists': [{'external...   \n",
                        "9  {'album_type': 'album', 'artists': [{'external...   \n",
                        "\n",
                        "                                             artists  disc_number  \\\n",
                        "6  [{'external_urls': {'spotify': 'https://open.s...            1   \n",
                        "7  [{'external_urls': {'spotify': 'https://open.s...            1   \n",
                        "9  [{'external_urls': {'spotify': 'https://open.s...            1   \n",
                        "\n",
                        "   duration_ms  explicit              external_ids  \\\n",
                        "6       173610     False  {'isrc': 'USAT22400510'}   \n",
                        "7       206626     False  {'isrc': 'QMAAK1557437'}   \n",
                        "9       231906     False  {'isrc': 'QMAAK1557436'}   \n",
                        "\n",
                        "                                       external_urls  \\\n",
                        "6  {'spotify': 'https://open.spotify.com/track/66...   \n",
                        "7  {'spotify': 'https://open.spotify.com/track/0w...   \n",
                        "9  {'spotify': 'https://open.spotify.com/track/0M...   \n",
                        "\n",
                        "                                                href                      id  \\\n",
                        "6  https://api.spotify.com/v1/tracks/661XFV3LB1wp...  661XFV3LB1wpEFSmumnXUM   \n",
                        "7  https://api.spotify.com/v1/tracks/0wThz4KsTK2C...  0wThz4KsTK2C1B4QcCgXOw   \n",
                        "9  https://api.spotify.com/v1/tracks/0M2qo3471lo6...  0M2qo3471lo6vo91qHM5Ub   \n",
                        "\n",
                        "   is_local  is_playable                              name  popularity  \\\n",
                        "6     False         True  Overtime (feat. Kacey Musgraves)          57   \n",
                        "7     False         True              All's Well That Ends          58   \n",
                        "9     False         True                 Goodnight Chicago          58   \n",
                        "\n",
                        "                                         preview_url  track_number   type  \\\n",
                        "6  https://p.scdn.co/mp3-preview/001c7260cfb1656e...            10  track   \n",
                        "7  https://p.scdn.co/mp3-preview/81b3d8fd15302615...            10  track   \n",
                        "9  https://p.scdn.co/mp3-preview/5baa79530293f6f6...             9  track   \n",
                        "\n",
                        "                                    uri  \n",
                        "6  spotify:track:661XFV3LB1wpEFSmumnXUM  \n",
                        "7  spotify:track:0wThz4KsTK2C1B4QcCgXOw  \n",
                        "9  spotify:track:0M2qo3471lo6vo91qHM5Ub  \n"
                    ]
                }
            ],
            "source": [
                "# Step 7: Transform to pandas df\n",
                "import pandas as pd\n",
                "\n",
                "tracks_df = pd.DataFrame.from_records(top_tracks_data['tracks'])\n",
                "tracks_df.sort_values([\"popularity\"], inplace = True)\n",
                "\n",
                "print(tracks_df.head(3))\n"
            ]
        }
    ],
    "metadata": {
        "kernelspec": {
            "display_name": "Python 3",
            "language": "python",
            "name": "python3"
        },
        "language_info": {
            "codemirror_mode": {
                "name": "ipython",
                "version": 3
            },
            "file_extension": ".py",
            "mimetype": "text/x-python",
            "name": "python",
            "nbconvert_exporter": "python",
            "pygments_lexer": "ipython3",
            "version": "3.11.4"
        },
        "orig_nbformat": 4
    },
    "nbformat": 4,
    "nbformat_minor": 2
}
