{
    "cells": [
        {
            "cell_type": "markdown",
            "metadata": {},
            "source": [
                "# Explore here"
            ]
        },
        {
            "cell_type": "code",
            "execution_count": 2,
            "metadata": {},
            "outputs": [
                {
                    "ename": "ModuleNotFoundError",
                    "evalue": "No module named 'seaborn'",
                    "output_type": "error",
                    "traceback": [
                        "\u001b[0;31m---------------------------------------------------------------------------\u001b[0m",
                        "\u001b[0;31mModuleNotFoundError\u001b[0m                       Traceback (most recent call last)",
                        "Cell \u001b[0;32mIn[2], line 3\u001b[0m\n\u001b[1;32m      1\u001b[0m \u001b[38;5;28;01mimport\u001b[39;00m \u001b[38;5;21;01mos\u001b[39;00m\n\u001b[1;32m      2\u001b[0m \u001b[38;5;28;01mimport\u001b[39;00m \u001b[38;5;21;01mpandas\u001b[39;00m \u001b[38;5;28;01mas\u001b[39;00m \u001b[38;5;21;01mpd\u001b[39;00m\n\u001b[0;32m----> 3\u001b[0m \u001b[38;5;28;01mimport\u001b[39;00m \u001b[38;5;21;01mseaborn\u001b[39;00m \u001b[38;5;28;01mas\u001b[39;00m \u001b[38;5;21;01msns\u001b[39;00m\n\u001b[1;32m      4\u001b[0m \u001b[38;5;28;01mfrom\u001b[39;00m \u001b[38;5;21;01mdotenv\u001b[39;00m \u001b[38;5;28;01mimport\u001b[39;00m load_dotenv\n\u001b[1;32m      6\u001b[0m \u001b[38;5;66;03m# load the .env file variables\u001b[39;00m\n",
                        "\u001b[0;31mModuleNotFoundError\u001b[0m: No module named 'seaborn'"
                    ]
                }
            ],
            "source": [
                "import os\n",
                "import pandas as pd\n",
                "import seaborn as sns\n",
                "from dotenv import load_dotenv\n",
                "\n",
                "# load the .env file variables\n",
                "load_dotenv()\n",
                "\n"
            ]
        },
        {
            "cell_type": "code",
            "execution_count": 16,
            "metadata": {},
            "outputs": [
                {
                    "name": "stdout",
                    "output_type": "stream",
                    "text": [
                        "Defaulting to user installation because normal site-packages is not writeable\n",
                        "Requirement already satisfied: spotipy in /home/vscode/.local/lib/python3.11/site-packages (2.23.0)\n",
                        "Requirement already satisfied: redis>=3.5.3 in /home/vscode/.local/lib/python3.11/site-packages (from spotipy) (5.1.1)\n",
                        "Requirement already satisfied: requests>=2.25.0 in /home/vscode/.local/lib/python3.11/site-packages (from spotipy) (2.27.1)\n",
                        "Requirement already satisfied: six>=1.15.0 in /home/vscode/.local/lib/python3.11/site-packages (from spotipy) (1.16.0)\n",
                        "Requirement already satisfied: urllib3>=1.26.0 in /home/vscode/.local/lib/python3.11/site-packages (from spotipy) (1.26.20)\n",
                        "Requirement already satisfied: certifi>=2017.4.17 in /home/vscode/.local/lib/python3.11/site-packages (from requests>=2.25.0->spotipy) (2024.8.30)\n",
                        "Requirement already satisfied: charset-normalizer~=2.0.0 in /home/vscode/.local/lib/python3.11/site-packages (from requests>=2.25.0->spotipy) (2.0.12)\n",
                        "Requirement already satisfied: idna<4,>=2.5 in /home/vscode/.local/lib/python3.11/site-packages (from requests>=2.25.0->spotipy) (3.10)\n",
                        "\n",
                        "\u001b[1m[\u001b[0m\u001b[34;49mnotice\u001b[0m\u001b[1;39;49m]\u001b[0m\u001b[39;49m A new release of pip is available: \u001b[0m\u001b[31;49m23.1.2\u001b[0m\u001b[39;49m -> \u001b[0m\u001b[32;49m24.2\u001b[0m\n",
                        "\u001b[1m[\u001b[0m\u001b[34;49mnotice\u001b[0m\u001b[1;39;49m]\u001b[0m\u001b[39;49m To update, run: \u001b[0m\u001b[32;49mpip install --upgrade pip\u001b[0m\n",
                        "Defaulting to user installation because normal site-packages is not writeable\n",
                        "Collecting seaborn\n",
                        "  Downloading seaborn-0.13.2-py3-none-any.whl (294 kB)\n",
                        "\u001b[2K     \u001b[90m━━━━━━━━━━━━━━━━━━━━━━━━━━━━━━━━━━━━━━━\u001b[0m \u001b[32m294.9/294.9 kB\u001b[0m \u001b[31m4.9 MB/s\u001b[0m eta \u001b[36m0:00:00\u001b[0ma \u001b[36m0:00:01\u001b[0m\n",
                        "\u001b[?25hRequirement already satisfied: numpy!=1.24.0,>=1.20 in /home/vscode/.local/lib/python3.11/site-packages (from seaborn) (2.1.2)\n",
                        "Requirement already satisfied: pandas>=1.2 in /home/vscode/.local/lib/python3.11/site-packages (from seaborn) (2.2.3)\n",
                        "Requirement already satisfied: matplotlib!=3.6.1,>=3.4 in /home/vscode/.local/lib/python3.11/site-packages (from seaborn) (3.9.2)\n",
                        "Requirement already satisfied: contourpy>=1.0.1 in /home/vscode/.local/lib/python3.11/site-packages (from matplotlib!=3.6.1,>=3.4->seaborn) (1.3.0)\n",
                        "Requirement already satisfied: cycler>=0.10 in /home/vscode/.local/lib/python3.11/site-packages (from matplotlib!=3.6.1,>=3.4->seaborn) (0.12.1)\n",
                        "Requirement already satisfied: fonttools>=4.22.0 in /home/vscode/.local/lib/python3.11/site-packages (from matplotlib!=3.6.1,>=3.4->seaborn) (4.54.1)\n",
                        "Requirement already satisfied: kiwisolver>=1.3.1 in /home/vscode/.local/lib/python3.11/site-packages (from matplotlib!=3.6.1,>=3.4->seaborn) (1.4.7)\n",
                        "Requirement already satisfied: packaging>=20.0 in /home/vscode/.local/lib/python3.11/site-packages (from matplotlib!=3.6.1,>=3.4->seaborn) (24.1)\n",
                        "Requirement already satisfied: pillow>=8 in /home/vscode/.local/lib/python3.11/site-packages (from matplotlib!=3.6.1,>=3.4->seaborn) (10.4.0)\n",
                        "Requirement already satisfied: pyparsing>=2.3.1 in /home/vscode/.local/lib/python3.11/site-packages (from matplotlib!=3.6.1,>=3.4->seaborn) (3.1.4)\n",
                        "Requirement already satisfied: python-dateutil>=2.7 in /home/vscode/.local/lib/python3.11/site-packages (from matplotlib!=3.6.1,>=3.4->seaborn) (2.9.0.post0)\n",
                        "Requirement already satisfied: pytz>=2020.1 in /home/vscode/.local/lib/python3.11/site-packages (from pandas>=1.2->seaborn) (2024.2)\n",
                        "Requirement already satisfied: tzdata>=2022.7 in /home/vscode/.local/lib/python3.11/site-packages (from pandas>=1.2->seaborn) (2024.2)\n",
                        "Requirement already satisfied: six>=1.5 in /home/vscode/.local/lib/python3.11/site-packages (from python-dateutil>=2.7->matplotlib!=3.6.1,>=3.4->seaborn) (1.16.0)\n",
                        "Installing collected packages: seaborn\n",
                        "Successfully installed seaborn-0.13.2\n",
                        "\n",
                        "\u001b[1m[\u001b[0m\u001b[34;49mnotice\u001b[0m\u001b[1;39;49m]\u001b[0m\u001b[39;49m A new release of pip is available: \u001b[0m\u001b[31;49m23.1.2\u001b[0m\u001b[39;49m -> \u001b[0m\u001b[32;49m24.2\u001b[0m\n",
                        "\u001b[1m[\u001b[0m\u001b[34;49mnotice\u001b[0m\u001b[1;39;49m]\u001b[0m\u001b[39;49m To update, run: \u001b[0m\u001b[32;49mpip install --upgrade pip\u001b[0m\n"
                    ]
                }
            ],
            "source": [
                "# Step 2: Initial config\n",
                "!pip install spotipy\n",
                "!pip install seaborn"
            ]
        },
        {
            "cell_type": "code",
            "execution_count": 4,
            "metadata": {},
            "outputs": [],
            "source": [
                "# Step 3: Environment variables\n",
                "from dotenv import load_dotenv\n",
                "load_dotenv()\n",
                "\n",
                "import os\n",
                "\n",
                "client_id = os.environ.get(\"CLIENT_ID\")\n",
                "client_secret = os.environ.get(\"CLIENT_SECRET\")"
            ]
        },
        {
            "cell_type": "code",
            "execution_count": 5,
            "metadata": {},
            "outputs": [
                {
                    "name": "stdout",
                    "output_type": "stream",
                    "text": [
                        "Access token obtained!\n"
                    ]
                }
            ],
            "source": [
                "# Step 4: Obtain access token\n",
                "import base64\n",
                "import requests\n",
                "\n",
                "# Encode the client credentials\n",
                "client_credentials = f\"{client_id}:{client_secret}\"\n",
                "client_credentials_base64 = base64.b64encode(client_credentials.encode())\n",
                "\n",
                "# Prepare the token request\n",
                "token_url = \"https://accounts.spotify.com/api/token\"\n",
                "headers = {\n",
                "    \"Authorization\": f\"Basic {client_credentials_base64.decode()}\"\n",
                "}\n",
                "data = {\n",
                "    \"grant_type\": \"client_credentials\"\n",
                "}\n",
                "\n",
                "# Request access token\n",
                "response = requests.post(token_url, headers=headers, data=data)\n",
                "\n",
                "# Check if the request was successful\n",
                "if response.status_code == 200:\n",
                "    access_token = response.json()['access_token']\n",
                "    print(\"Access token obtained!\")\n",
                "else:\n",
                "    print(f\"Failed to obtain access token. Status code: {response.status_code}\")\n",
                "    print(response.text)"
            ]
        },
        {
            "cell_type": "code",
            "execution_count": 6,
            "metadata": {},
            "outputs": [
                {
                    "name": "stdout",
                    "output_type": "stream",
                    "text": [
                        "Response Data: {'artists': {'href': 'https://api.spotify.com/v1/search?query=Rainbow+Kitten+Surprise&type=artist&offset=0&limit=1', 'items': [{'external_urls': {'spotify': 'https://open.spotify.com/artist/4hz8tIajF2INpgM0qzPJz2'}, 'followers': {'href': None, 'total': 1186509}, 'genres': ['pov: indie'], 'href': 'https://api.spotify.com/v1/artists/4hz8tIajF2INpgM0qzPJz2', 'id': '4hz8tIajF2INpgM0qzPJz2', 'images': [{'height': 640, 'url': 'https://i.scdn.co/image/ab6761610000e5eb88aed23707da4abd1b8e2fe7', 'width': 640}, {'height': 320, 'url': 'https://i.scdn.co/image/ab6761610000517488aed23707da4abd1b8e2fe7', 'width': 320}, {'height': 160, 'url': 'https://i.scdn.co/image/ab6761610000f17888aed23707da4abd1b8e2fe7', 'width': 160}], 'name': 'Rainbow Kitten Surprise', 'popularity': 71, 'type': 'artist', 'uri': 'spotify:artist:4hz8tIajF2INpgM0qzPJz2'}], 'limit': 1, 'next': 'https://api.spotify.com/v1/search?query=Rainbow+Kitten+Surprise&type=artist&offset=1&limit=1', 'offset': 0, 'previous': None, 'total': 369}}\n"
                    ]
                }
            ],
            "source": [
                "# Step 5: Search for an artist\n",
                "# Set the access token in the headers\n",
                "headers = {\n",
                "    \"Authorization\": f\"Bearer {access_token}\"\n",
                "}\n",
                "\n",
                "# Define the endpoint and parameters\n",
                "search_url = \"https://api.spotify.com/v1/search\"\n",
                "params = {\n",
                "    \"q\": \"Rainbow Kitten Surprise\",  # Artist name to search for\n",
                "    \"type\": \"artist\",\n",
                "    \"limit\": 1\n",
                "}\n",
                "\n",
                "# Make the API request to search for the artist\n",
                "response = requests.get(search_url, headers=headers, params=params)\n",
                "\n",
                "# Check if the request was successful\n",
                "if response.status_code == 200:\n",
                "    response_data = response.json()\n",
                "    print(f\"Response Data: {response_data}\")\n",
                "    artist_id = response_data['artists']['items'][0]['id']\n",
                "    artist_name = response_data['artists']['items'][0]['name']\n",
                "    # print(f\"Found artist: {artist_name} (ID: {artist_id})\")\n",
                "else:\n",
                "    print(f\"Failed to search for artist. Status code: {response.status_code}\")\n",
                "    print(response.text)\n"
            ]
        },
        {
            "cell_type": "code",
            "execution_count": 12,
            "metadata": {},
            "outputs": [
                {
                    "name": "stdout",
                    "output_type": "stream",
                    "text": [
                        "Extracted top tracks for Rainbow Kitten Surprise:\n",
                        "{'Name': \"It's Called: Freefall\", 'Album': 'How to: Friend, Love, Freefall', 'Length (ms)': 152293, 'Popularity': 77}\n",
                        "{'Name': 'All That And More (Sailboat)', 'Album': 'Seven + Mary', 'Length (ms)': 171025, 'Popularity': 67}\n",
                        "{'Name': 'Cocaine Jesus', 'Album': 'RKS', 'Length (ms)': 229666, 'Popularity': 67}\n",
                        "{'Name': 'Devil Like Me', 'Album': 'Seven + Mary', 'Length (ms)': 188280, 'Popularity': 65}\n",
                        "{'Name': 'Painkillers', 'Album': 'How to: Friend, Love, Freefall', 'Length (ms)': 213973, 'Popularity': 64}\n",
                        "{'Name': 'First Class', 'Album': 'Seven + Mary', 'Length (ms)': 343485, 'Popularity': 63}\n",
                        "{'Name': 'Overtime (feat. Kacey Musgraves)', 'Album': 'Love Hate Music Box', 'Length (ms)': 173610, 'Popularity': 57}\n",
                        "{'Name': \"All's Well That Ends\", 'Album': 'RKS', 'Length (ms)': 206626, 'Popularity': 58}\n",
                        "{'Name': 'Heart', 'Album': 'Mary (b-sides)', 'Length (ms)': 219696, 'Popularity': 58}\n",
                        "{'Name': 'Goodnight Chicago', 'Album': 'RKS', 'Length (ms)': 231906, 'Popularity': 57}\n"
                    ]
                }
            ],
            "source": [
                "# Step 6: Get artist's top tracks\n",
                "# Define the endpoint for the artist's top tracks\n",
                "top_tracks_url = f\"https://api.spotify.com/v1/artists/{artist_id}/top-tracks\"\n",
                "params = {\n",
                "    \"market\": \"US\"  # Specify the market (country)\n",
                "}\n",
                "\n",
                "# Make the API request to get top tracks\n",
                "response = requests.get(top_tracks_url, headers=headers, params=params)\n",
                "\n",
                "# Check if the request was successful\n",
                "tracks_info = []\n",
                "\n",
                "if response.status_code == 200:\n",
                "    top_tracks_data = response.json()\n",
                "    print(f\"Extracted top tracks for {artist_name}:\")\n",
                "    for idx, track in enumerate(top_tracks_data['tracks'], start=1):\n",
                "        title = track['name']\n",
                "        album = track['album']['name']\n",
                "        duration = track['duration_ms']\n",
                "        popularity = track['popularity']\n",
                "\n",
                "        track_info = {'Name': title,\n",
                "                  'Album': album,\n",
                "                  'Length (ms)': duration,\n",
                "                  'Popularity': popularity}\n",
                "        \n",
                "        print(f\"{track_info}\")\n",
                "        tracks_info.append(track_info)\n",
                "else:\n",
                "    print(f\"Failed to get top tracks. Status code: {response.status_code}\")\n",
                "    print(response.text)"
            ]
        },
        {
            "cell_type": "code",
            "execution_count": 13,
            "metadata": {},
            "outputs": [
                {
                    "data": {
                        "text/html": [
                            "<div>\n",
                            "<style scoped>\n",
                            "    .dataframe tbody tr th:only-of-type {\n",
                            "        vertical-align: middle;\n",
                            "    }\n",
                            "\n",
                            "    .dataframe tbody tr th {\n",
                            "        vertical-align: top;\n",
                            "    }\n",
                            "\n",
                            "    .dataframe thead th {\n",
                            "        text-align: right;\n",
                            "    }\n",
                            "</style>\n",
                            "<table border=\"1\" class=\"dataframe\">\n",
                            "  <thead>\n",
                            "    <tr style=\"text-align: right;\">\n",
                            "      <th></th>\n",
                            "      <th>Name</th>\n",
                            "      <th>Album</th>\n",
                            "      <th>Length (ms)</th>\n",
                            "      <th>Popularity</th>\n",
                            "    </tr>\n",
                            "  </thead>\n",
                            "  <tbody>\n",
                            "    <tr>\n",
                            "      <th>0</th>\n",
                            "      <td>It's Called: Freefall</td>\n",
                            "      <td>How to: Friend, Love, Freefall</td>\n",
                            "      <td>152293</td>\n",
                            "      <td>77</td>\n",
                            "    </tr>\n",
                            "    <tr>\n",
                            "      <th>1</th>\n",
                            "      <td>All That And More (Sailboat)</td>\n",
                            "      <td>Seven + Mary</td>\n",
                            "      <td>171025</td>\n",
                            "      <td>67</td>\n",
                            "    </tr>\n",
                            "    <tr>\n",
                            "      <th>2</th>\n",
                            "      <td>Cocaine Jesus</td>\n",
                            "      <td>RKS</td>\n",
                            "      <td>229666</td>\n",
                            "      <td>67</td>\n",
                            "    </tr>\n",
                            "    <tr>\n",
                            "      <th>3</th>\n",
                            "      <td>Devil Like Me</td>\n",
                            "      <td>Seven + Mary</td>\n",
                            "      <td>188280</td>\n",
                            "      <td>65</td>\n",
                            "    </tr>\n",
                            "    <tr>\n",
                            "      <th>4</th>\n",
                            "      <td>Painkillers</td>\n",
                            "      <td>How to: Friend, Love, Freefall</td>\n",
                            "      <td>213973</td>\n",
                            "      <td>64</td>\n",
                            "    </tr>\n",
                            "    <tr>\n",
                            "      <th>5</th>\n",
                            "      <td>First Class</td>\n",
                            "      <td>Seven + Mary</td>\n",
                            "      <td>343485</td>\n",
                            "      <td>63</td>\n",
                            "    </tr>\n",
                            "    <tr>\n",
                            "      <th>6</th>\n",
                            "      <td>Overtime (feat. Kacey Musgraves)</td>\n",
                            "      <td>Love Hate Music Box</td>\n",
                            "      <td>173610</td>\n",
                            "      <td>57</td>\n",
                            "    </tr>\n",
                            "    <tr>\n",
                            "      <th>7</th>\n",
                            "      <td>All's Well That Ends</td>\n",
                            "      <td>RKS</td>\n",
                            "      <td>206626</td>\n",
                            "      <td>58</td>\n",
                            "    </tr>\n",
                            "    <tr>\n",
                            "      <th>8</th>\n",
                            "      <td>Heart</td>\n",
                            "      <td>Mary (b-sides)</td>\n",
                            "      <td>219696</td>\n",
                            "      <td>58</td>\n",
                            "    </tr>\n",
                            "    <tr>\n",
                            "      <th>9</th>\n",
                            "      <td>Goodnight Chicago</td>\n",
                            "      <td>RKS</td>\n",
                            "      <td>231906</td>\n",
                            "      <td>57</td>\n",
                            "    </tr>\n",
                            "  </tbody>\n",
                            "</table>\n",
                            "</div>"
                        ],
                        "text/plain": [
                            "                               Name                           Album  \\\n",
                            "0             It's Called: Freefall  How to: Friend, Love, Freefall   \n",
                            "1      All That And More (Sailboat)                    Seven + Mary   \n",
                            "2                     Cocaine Jesus                             RKS   \n",
                            "3                     Devil Like Me                    Seven + Mary   \n",
                            "4                       Painkillers  How to: Friend, Love, Freefall   \n",
                            "5                       First Class                    Seven + Mary   \n",
                            "6  Overtime (feat. Kacey Musgraves)             Love Hate Music Box   \n",
                            "7              All's Well That Ends                             RKS   \n",
                            "8                             Heart                  Mary (b-sides)   \n",
                            "9                 Goodnight Chicago                             RKS   \n",
                            "\n",
                            "   Length (ms)  Popularity  \n",
                            "0       152293          77  \n",
                            "1       171025          67  \n",
                            "2       229666          67  \n",
                            "3       188280          65  \n",
                            "4       213973          64  \n",
                            "5       343485          63  \n",
                            "6       173610          57  \n",
                            "7       206626          58  \n",
                            "8       219696          58  \n",
                            "9       231906          57  "
                        ]
                    },
                    "execution_count": 13,
                    "metadata": {},
                    "output_type": "execute_result"
                }
            ],
            "source": [
                "# Step 7: Transform to pandas df\n",
                "import pandas as pd\n",
                "\n",
                "df = pd.DataFrame(tracks_info)\n",
                "df.sort_values('Popularity')\n",
                "df\n"
            ]
        },
        {
            "cell_type": "code",
            "execution_count": 18,
            "metadata": {},
            "outputs": [
                {
                    "data": {
                        "text/plain": [
                            "<Axes: xlabel='Length (ms)', ylabel='Popularity'>"
                        ]
                    },
                    "execution_count": 18,
                    "metadata": {},
                    "output_type": "execute_result"
                },
                {
                    "data": {
                        "image/png": "[encoded data removed]",
                        "text/plain": [
                            "<Figure size 640x480 with 1 Axes>"
                        ]
                    },
                    "metadata": {},
                    "output_type": "display_data"
                }
            ],
            "source": [
                "# Step 8: Analyze statistical relationship\n",
                "import seaborn as sns\n",
                "\n",
                "sns.scatterplot(data=df, x='Length (ms)', y='Popularity')"
            ]
        }
    ],
    "metadata": {
        "kernelspec": {
            "display_name": "Python 3",
            "language": "python",
            "name": "python3"
        },
        "language_info": {
            "codemirror_mode": {
                "name": "ipython",
                "version": 3
            },
            "file_extension": ".py",
            "mimetype": "text/x-python",
            "name": "python",
            "nbconvert_exporter": "python",
            "pygments_lexer": "ipython3",
            "version": "3.11.4"
        },
        "orig_nbformat": 4
    },
    "nbformat": 4,
    "nbformat_minor": 2
}
